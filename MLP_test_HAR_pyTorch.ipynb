{
 "cells": [
  {
   "cell_type": "code",
   "execution_count": 1,
   "metadata": {
    "collapsed": false
   },
   "outputs": [],
   "source": [
    "#load libraries\n",
    "#import numpy as np\n",
    "import torch\n",
    "import matplotlib.pyplot as plt\n",
    "import torch.nn as nn\n",
    "import torch.nn.functional as F\n",
    "import torch.optim as optim\n",
    "from torch import np\n",
    "from torch.autograd import Variable\n"
   ]
  },
  {
   "cell_type": "code",
   "execution_count": 2,
   "metadata": {
    "collapsed": true
   },
   "outputs": [],
   "source": [
    "#intializing neural network\n",
    "class Net(nn.Module):\n",
    "    def __init__(self):\n",
    "        super(Net, self).__init__()\n",
    "        self.fc1   = nn.Linear(561, 200)\n",
    "        self.fc2   = nn.Linear(200, 100)\n",
    "        self.fc3   = nn.Linear(100, 7)\n",
    "\n",
    "    def forward(self, x):\n",
    "        x = F.relu(self.fc1(x))\n",
    "        x = F.relu(self.fc2(x))\n",
    "        x = self.fc3(x)\n",
    "        return x\n",
    "\n",
    "net = Net()\n",
    "criterion = nn.CrossEntropyLoss() \n",
    "optimizer = optim.SGD(net.parameters(), lr=0.005)"
   ]
  },
  {
   "cell_type": "code",
   "execution_count": 3,
   "metadata": {
    "collapsed": false
   },
   "outputs": [],
   "source": [
    "#load data and labels\n",
    "xtrain=np.genfromtxt('X_train.txt')\n",
    "xtest=np.genfromtxt('X_test.txt')\n",
    "\n",
    "ytrain=np.genfromtxt('Y_train.txt')\n",
    "ytest=np.genfromtxt('Y_test.txt')"
   ]
  },
  {
   "cell_type": "code",
   "execution_count": 4,
   "metadata": {
    "collapsed": false
   },
   "outputs": [],
   "source": [
    "# Convert data to tensors\n",
    "xtrain1=torch.from_numpy(xtrain).float()\n",
    "ytrain1=torch.from_numpy(ytrain).long()\n",
    "xtest1=torch.from_numpy(xtest).float()\n",
    "ytest1=torch.from_numpy(ytest).long()\n",
    "\n",
    "# Create data iterator\n",
    "import torch.utils.data as data_utils\n",
    "train = data_utils.TensorDataset(xtrain1, ytrain1)\n",
    "train_loader = data_utils.DataLoader(train, batch_size=50, shuffle=True)\n",
    "test = data_utils.TensorDataset(xtest1, ytest1)\n",
    "test_loader = data_utils.DataLoader(test, batch_size=1, shuffle=False)\n"
   ]
  },
  {
   "cell_type": "code",
   "execution_count": 5,
   "metadata": {
    "collapsed": false
   },
   "outputs": [
    {
     "name": "stdout",
     "output_type": "stream",
     "text": [
      "[1,    50] loss: 1.89847\n",
      "[1,   100] loss: 1.79709\n",
      "[2,    50] loss: 1.55328\n",
      "[2,   100] loss: 1.42537\n",
      "[3,    50] loss: 1.20698\n",
      "[3,   100] loss: 1.12235\n",
      "[4,    50] loss: 1.01627\n",
      "[4,   100] loss: 0.97413\n",
      "[5,    50] loss: 0.89620\n",
      "[5,   100] loss: 0.85535\n",
      "[6,    50] loss: 0.79046\n",
      "[6,   100] loss: 0.76324\n",
      "[7,    50] loss: 0.71217\n",
      "[7,   100] loss: 0.69085\n",
      "[8,    50] loss: 0.64106\n",
      "[8,   100] loss: 0.63435\n",
      "[9,    50] loss: 0.58941\n",
      "[9,   100] loss: 0.58569\n",
      "[10,    50] loss: 0.55447\n",
      "[10,   100] loss: 0.52544\n",
      "[11,    50] loss: 0.49552\n",
      "[11,   100] loss: 0.47965\n",
      "[12,    50] loss: 0.44946\n",
      "[12,   100] loss: 0.45000\n",
      "[13,    50] loss: 0.42424\n",
      "[13,   100] loss: 0.40557\n",
      "[14,    50] loss: 0.38886\n",
      "[14,   100] loss: 0.37476\n",
      "[15,    50] loss: 0.37612\n",
      "[15,   100] loss: 0.35028\n",
      "[16,    50] loss: 0.34335\n",
      "[16,   100] loss: 0.32781\n",
      "[17,    50] loss: 0.31867\n",
      "[17,   100] loss: 0.30740\n",
      "[18,    50] loss: 0.28767\n",
      "[18,   100] loss: 0.30083\n",
      "[19,    50] loss: 0.28514\n",
      "[19,   100] loss: 0.27724\n",
      "[20,    50] loss: 0.26708\n",
      "[20,   100] loss: 0.27041\n",
      "[21,    50] loss: 0.25482\n",
      "[21,   100] loss: 0.26335\n",
      "[22,    50] loss: 0.23966\n",
      "[22,   100] loss: 0.24876\n",
      "[23,    50] loss: 0.23451\n",
      "[23,   100] loss: 0.22663\n",
      "[24,    50] loss: 0.21719\n",
      "[24,   100] loss: 0.23387\n",
      "[25,    50] loss: 0.22264\n",
      "[25,   100] loss: 0.21390\n",
      "[26,    50] loss: 0.21285\n",
      "[26,   100] loss: 0.20841\n",
      "[27,    50] loss: 0.20828\n",
      "[27,   100] loss: 0.19741\n",
      "[28,    50] loss: 0.19359\n",
      "[28,   100] loss: 0.19466\n",
      "[29,    50] loss: 0.19048\n",
      "[29,   100] loss: 0.19562\n",
      "[30,    50] loss: 0.18472\n",
      "[30,   100] loss: 0.17936\n",
      "[31,    50] loss: 0.17012\n",
      "[31,   100] loss: 0.17643\n",
      "[32,    50] loss: 0.16516\n",
      "[32,   100] loss: 0.16068\n",
      "[33,    50] loss: 0.15681\n",
      "[33,   100] loss: 0.16053\n",
      "[34,    50] loss: 0.15601\n",
      "[34,   100] loss: 0.15606\n",
      "[35,    50] loss: 0.14996\n",
      "[35,   100] loss: 0.15404\n",
      "[36,    50] loss: 0.14890\n",
      "[36,   100] loss: 0.14493\n",
      "[37,    50] loss: 0.13682\n",
      "[37,   100] loss: 0.15494\n",
      "[38,    50] loss: 0.13735\n",
      "[38,   100] loss: 0.14076\n",
      "[39,    50] loss: 0.13563\n",
      "[39,   100] loss: 0.12793\n",
      "[40,    50] loss: 0.13389\n",
      "[40,   100] loss: 0.13061\n",
      "[41,    50] loss: 0.12609\n",
      "[41,   100] loss: 0.13351\n",
      "[42,    50] loss: 0.12248\n",
      "[42,   100] loss: 0.12260\n",
      "[43,    50] loss: 0.13859\n",
      "[43,   100] loss: 0.12557\n",
      "[44,    50] loss: 0.12623\n",
      "[44,   100] loss: 0.10585\n",
      "[45,    50] loss: 0.12101\n",
      "[45,   100] loss: 0.10710\n",
      "[46,    50] loss: 0.11538\n",
      "[46,   100] loss: 0.11388\n",
      "[47,    50] loss: 0.10720\n",
      "[47,   100] loss: 0.11299\n",
      "[48,    50] loss: 0.11037\n",
      "[48,   100] loss: 0.10462\n",
      "[49,    50] loss: 0.10835\n",
      "[49,   100] loss: 0.10261\n",
      "[50,    50] loss: 0.10090\n",
      "[50,   100] loss: 0.10165\n",
      "Finished Training\n"
     ]
    }
   ],
   "source": [
    "# Training over data\n",
    "epochs=50\n",
    "error_log=np.zeros([epochs,1])\n",
    "for epoch in range(epochs): # loop over the dataset multiple times\n",
    "     \n",
    "    running_loss = 0.0\n",
    "    for i, data in enumerate(train_loader, 0):\n",
    "        # get the inputs\n",
    "        inputs, labels = data\n",
    "        \n",
    "        # wrap them in Variable\n",
    "        inputs, labels = Variable(inputs), Variable(labels)\n",
    "        \n",
    "        # zero the parameter gradients\n",
    "        optimizer.zero_grad()\n",
    "        \n",
    "        # forward + backward + optimize\n",
    "        outputs = net(inputs)\n",
    "        loss = criterion(outputs, labels)\n",
    "        loss.backward()        \n",
    "        optimizer.step()\n",
    "        \n",
    "        # print statistics\n",
    "        running_loss += loss.data[0]\n",
    "        if i % 50 == 49: # print every 100 mini-batches\n",
    "            print('[%d, %5d] loss: %.5f' % (epoch+1, i+1, running_loss / 50))\n",
    "            if i % 100 == 99:\n",
    "                error_log[epoch]=running_loss / 50\n",
    "            running_loss = 0.0\n",
    "print('Finished Training')"
   ]
  },
  {
   "cell_type": "code",
   "execution_count": 6,
   "metadata": {
    "collapsed": false
   },
   "outputs": [
    {
     "name": "stdout",
     "output_type": "stream",
     "text": [
      "Accuracy of the network on the train data: 95 %\n",
      "Accuracy of the network on the test data: 92 %\n"
     ]
    },
    {
     "data": {
      "image/png": "[encoded data removed]",
      "text/plain": [
       "<matplotlib.figure.Figure at 0x10cd3b048>"
      ]
     },
     "metadata": {},
     "output_type": "display_data"
    }
   ],
   "source": [
    "# Calculate accuracy\n",
    "\n",
    "correct1 = 0\n",
    "total1 = 0\n",
    "for data in train_loader:\n",
    "    features, labels = data\n",
    "    outputs = net(Variable(features))\n",
    "    _, predicted = torch.max(outputs.data, 1)\n",
    "    total1 += labels.size(0)\n",
    "    correct1 += (predicted == labels).sum()\n",
    "\n",
    "print('Accuracy of the network on the train data: %d %%' % (100 * correct1 / total1))    \n",
    "    \n",
    "correct = 0\n",
    "total = 0\n",
    "for data in test_loader:\n",
    "    features, labels = data\n",
    "    outputs = net(Variable(features))\n",
    "    _, predicted = torch.max(outputs.data, 1)\n",
    "    total += labels.size(0)\n",
    "    correct += (predicted == labels).sum()\n",
    "\n",
    "print('Accuracy of the network on the test data: %d %%' % (100 * correct / total))\n",
    "\n",
    "# Visualize performance over epochs\n",
    "plt.plot(error_log)\n",
    "plt.show()"
   ]
  },
  {
   "cell_type": "code",
   "execution_count": null,
   "metadata": {
    "collapsed": true
   },
   "outputs": [],
   "source": []
  }
 ],
 "metadata": {
  "kernelspec": {
   "display_name": "Python 3",
   "language": "python",
   "name": "python3"
  },
  "language_info": {
   "codemirror_mode": {
    "name": "ipython",
    "version": 3
   },
   "file_extension": ".py",
   "mimetype": "text/x-python",
   "name": "python",
   "nbconvert_exporter": "python",
   "pygments_lexer": "ipython3",
   "version": "3.5.2"
  }
 },
 "nbformat": 4,
 "nbformat_minor": 1
}
